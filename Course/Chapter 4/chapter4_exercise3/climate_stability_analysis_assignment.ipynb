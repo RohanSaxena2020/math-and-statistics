{
 "cells": [
  {
   "cell_type": "markdown",
   "id": "61c6fd18",
   "metadata": {},
   "source": [
    "### Comparing Weather Temperature Variability for Agricultural Investment Decisions\n",
    "\n",
    "**context:** An agricultural investment firm is in the process of deciding on a location for a new farming project. Understanding that **consistent** and predictable weather conditions are vital for successful agriculture, the firm aims to evaluate and compare two potential cities based on their temperature stability. The key factor in this decision-making process is the variability in average daily temperatures, as it directly impacts crop growth and agricultural planning.\n",
    "\n",
    "The firm has provided a dataset, named **\"climate_stability_comparison.xlsx\"**, to aid in this assessment. This dataset includes the following columns:\n",
    "\n",
    "- **month:** Indicates the month of the year.\n",
    "- **Avg Temp City A (°C):** The average daily temperature for City A in each month, measured in degrees Celsius.\n",
    "- **Avg Temp City B (°C):** The average daily temperature for City B in each month, measured in degrees Celsius."
   ]
  },
  {
   "cell_type": "markdown",
   "id": "8f7f7cf8",
   "metadata": {},
   "source": [
    "### Task Objective\n",
    "\n",
    "- Calculate the standard deviation for average temperatures in both cities.\n",
    "- Determine which city has a higher temperature variability.\n",
    "- Decide on the city with more stable (lower variability) temperatures for agricultural investment."
   ]
  },
  {
   "cell_type": "code",
   "execution_count": null,
   "id": "faf52c1c",
   "metadata": {},
   "outputs": [],
   "source": []
  },
  {
   "cell_type": "markdown",
   "id": "82e43619",
   "metadata": {},
   "source": [
    "**Import necessary libraries**"
   ]
  },
  {
   "cell_type": "code",
   "execution_count": 2,
   "id": "183bc784",
   "metadata": {},
   "outputs": [],
   "source": [
    "import pandas as pd"
   ]
  },
  {
   "cell_type": "code",
   "execution_count": null,
   "id": "ef78c41a",
   "metadata": {},
   "outputs": [],
   "source": []
  },
  {
   "cell_type": "markdown",
   "id": "53cfa5ee",
   "metadata": {},
   "source": [
    "**1: Data Import**"
   ]
  },
  {
   "cell_type": "code",
   "execution_count": 3,
   "id": "f56d4dab",
   "metadata": {},
   "outputs": [],
   "source": [
    "df = pd.read_excel(\"climate_stability_comparison.xlsx\")"
   ]
  },
  {
   "cell_type": "markdown",
   "id": "f8a87ee5",
   "metadata": {},
   "source": [
    "**2: Calculate standard deviations**"
   ]
  },
  {
   "cell_type": "code",
   "execution_count": 12,
   "id": "e89bf08b",
   "metadata": {},
   "outputs": [
    {
     "name": "stdout",
     "output_type": "stream",
     "text": [
      "City A' standard deviation: 1.729862492345632\n"
     ]
    }
   ],
   "source": [
    "#calculate standard deviation for both City A and City B\n",
    "\n",
    "# -----> 'City A' standard deviation\n",
    "\n",
    "cityA_std_dev = df['Avg Temp City A (°C)'].std()\n",
    "\n",
    "print(\"City A' standard deviation:\",cityA_std_dev)\n"
   ]
  },
  {
   "cell_type": "code",
   "execution_count": 13,
   "id": "a778a41c",
   "metadata": {},
   "outputs": [
    {
     "name": "stdout",
     "output_type": "stream",
     "text": [
      "City B' standard deviation: 4.266678503771459\n"
     ]
    }
   ],
   "source": [
    "# -----> 'City B' standard deviation\n",
    "cityB_std_dev = df['Avg Temp City B (°C)'].std()\n",
    "print(\"City B' standard deviation:\",cityB_std_dev)\n",
    "\n"
   ]
  },
  {
   "cell_type": "markdown",
   "id": "1aaad487",
   "metadata": {},
   "source": [
    "**3: Comparison**"
   ]
  },
  {
   "cell_type": "code",
   "execution_count": 14,
   "id": "65462d6c",
   "metadata": {},
   "outputs": [
    {
     "name": "stdout",
     "output_type": "stream",
     "text": [
      "Invest in City A due to more stable temperature conditions.\n"
     ]
    }
   ],
   "source": [
    "# City A has a lower ST dev than City B\n",
    "\n",
    "# Decision Making\n",
    "if cityA_std_dev < cityB_std_dev:\n",
    "    print(\"Invest in City A due to more stable temperature conditions.\")\n",
    "else:\n",
    "    print(\"Invest in City B due to more stable temperature conditions.\")"
   ]
  },
  {
   "cell_type": "markdown",
   "id": "a06f8038",
   "metadata": {},
   "source": [
    "**4: Observation and Decision**"
   ]
  },
  {
   "cell_type": "code",
   "execution_count": null,
   "id": "a920aece",
   "metadata": {},
   "outputs": [],
   "source": [
    "# - City A demonstrated a notably lower standard deviation in its average daily temperatures compared to City B. This indicates that City A experiences less fluctuation in temperature throughout the year.\n",
    "# - The temperature range in City A was found to be more consistent and narrow, fluctuating moderately between 14°C and 19°C.\n",
    "# - Conversely, City B displayed higher variability with temperatures ranging more broadly from 12°C to 25°C.\n",
    "# - Based on above observations, we recommend choosing City A for the agricultural investment. "
   ]
  }
 ],
 "metadata": {
  "kernelspec": {
   "display_name": "Python 3 (ipykernel)",
   "language": "python",
   "name": "python3"
  },
  "language_info": {
   "codemirror_mode": {
    "name": "ipython",
    "version": 3
   },
   "file_extension": ".py",
   "mimetype": "text/x-python",
   "name": "python",
   "nbconvert_exporter": "python",
   "pygments_lexer": "ipython3",
   "version": "3.11.4"
  }
 },
 "nbformat": 4,
 "nbformat_minor": 5
}
